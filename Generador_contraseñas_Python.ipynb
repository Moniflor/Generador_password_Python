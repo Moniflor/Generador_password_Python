{
  "nbformat": 4,
  "nbformat_minor": 0,
  "metadata": {
    "colab": {
      "provenance": [],
      "authorship_tag": "ABX9TyMYHXjrSXqwbgGlgjlhhH+C",
      "include_colab_link": true
    },
    "kernelspec": {
      "name": "python3",
      "display_name": "Python 3"
    },
    "language_info": {
      "name": "python"
    }
  },
  "cells": [
    {
      "cell_type": "markdown",
      "metadata": {
        "id": "view-in-github",
        "colab_type": "text"
      },
      "source": [
        "<a href=\"https://colab.research.google.com/github/Moniflor/Generador_password_Python/blob/main/Generador_contrase%C3%B1as_Python.ipynb\" target=\"_parent\"><img src=\"https://colab.research.google.com/assets/colab-badge.svg\" alt=\"Open In Colab\"/></a>"
      ]
    },
    {
      "cell_type": "code",
      "execution_count": 1,
      "metadata": {
        "id": "cU__ECUv9u3M"
      },
      "outputs": [],
      "source": [
        "import random\n",
        "import string\n"
      ]
    },
    {
      "cell_type": "markdown",
      "source": [
        "En esta línea, se importan los módulos necesarios: 'random' y 'string'. Estos módulos son parte de la biblioteca estándar de Python y nos permiten generar contraseñas aleatorias y trabajar con cadenas de caracteres."
      ],
      "metadata": {
        "id": "3e-XemSuGV93"
      }
    },
    {
      "cell_type": "code",
      "source": [
        "def generar_contrasena(longitud):\n",
        "    caracteres = string.ascii_letters + string.digits + string.punctuation\n",
        "    contrasena = ''.join(random.choice(caracteres) for i in range(longitud))\n",
        "    return contrasena"
      ],
      "metadata": {
        "id": "WcaM3vqv91na"
      },
      "execution_count": 2,
      "outputs": []
    },
    {
      "cell_type": "markdown",
      "source": [
        "La función 'generar_contrasena' toma un argumento 'longitud', que representa la cantidad de caracteres que tendrá la contraseña generada. La función devolverá una contraseña aleatoria con la longitud especificada."
      ],
      "metadata": {
        "id": "KVA0mTgXHBMH"
      }
    },
    {
      "cell_type": "markdown",
      "source": [
        "La función 'string.ascii_letters' se usa para obtener todos los caracteres alfabéticos (tanto mayúsculas como minúsculas) y la función 'string.digits' para obtener todos los dígitos (0-9). También se agrega 'string.punctuation', que incluye todos los caracteres especiales de puntuación. Combinamos todos estos conjuntos en la variable 'caracteres', que contiene todos los posibles caracteres que podrían formar parte de la contraseña."
      ],
      "metadata": {
        "id": "miX0XzJAHZGf"
      }
    },
    {
      "cell_type": "markdown",
      "source": [
        "El bucle 'for' genera cada caracter de la contraseña aleatoria. La función 'random.choice(caracteres)' elige un caracter aleatorio de la variable 'caracteres' en cada iteración del bucle. El bucle se ejecuta 'longitud' veces, donde 'longitud' es la longitud de la contraseña que deseamos generar.\n"
      ],
      "metadata": {
        "id": "9yeHle-KHzTN"
      }
    },
    {
      "cell_type": "markdown",
      "source": [
        "'join' se usa para unir todos los caracteres generados en el bucle y formar una cadena que represente la contraseña completa"
      ],
      "metadata": {
        "id": "XeSR-5hbJf2m"
      }
    },
    {
      "cell_type": "code",
      "source": [
        "longitud_contrasena = 12\n",
        "contrasena_generada = generar_contrasena(longitud_contrasena)\n",
        "print(\"Contraseña generada:\", contrasena_generada)"
      ],
      "metadata": {
        "colab": {
          "base_uri": "https://localhost:8080/"
        },
        "id": "bF7CtqAo95pZ",
        "outputId": "b448478b-134c-44cd-dbc4-f3e244a27f87"
      },
      "execution_count": 4,
      "outputs": [
        {
          "output_type": "stream",
          "name": "stdout",
          "text": [
            "Contraseña generada: NdH!frYYBz;n\n"
          ]
        }
      ]
    },
    {
      "cell_type": "markdown",
      "source": [
        "Se definen los valores de las variables y finalmente se hace un 'print' para devolver la contraseña generada."
      ],
      "metadata": {
        "id": "HwFJ6-kjJywu"
      }
    },
    {
      "cell_type": "code",
      "source": [],
      "metadata": {
        "id": "W90r5CV7G5ev"
      },
      "execution_count": null,
      "outputs": []
    }
  ]
}