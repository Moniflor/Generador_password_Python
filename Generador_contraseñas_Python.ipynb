{
  "nbformat": 4,
  "nbformat_minor": 0,
  "metadata": {
    "colab": {
      "provenance": [],
      "authorship_tag": "ABX9TyPdyu9p1xxRj0KDHI/Zl2SC",
      "include_colab_link": true
    },
    "kernelspec": {
      "name": "python3",
      "display_name": "Python 3"
    },
    "language_info": {
      "name": "python"
    }
  },
  "cells": [
    {
      "cell_type": "markdown",
      "metadata": {
        "id": "view-in-github",
        "colab_type": "text"
      },
      "source": [
        "<a href=\"https://colab.research.google.com/github/Moniflor/Generador_password_Python/blob/main/Generador_contrase%C3%B1as_Python.ipynb\" target=\"_parent\"><img src=\"https://colab.research.google.com/assets/colab-badge.svg\" alt=\"Open In Colab\"/></a>"
      ]
    },
    {
      "cell_type": "code",
      "execution_count": 1,
      "metadata": {
        "id": "cU__ECUv9u3M"
      },
      "outputs": [],
      "source": [
        "import random\n",
        "import string\n"
      ]
    },
    {
      "cell_type": "code",
      "source": [
        "def generar_contrasena(longitud):\n",
        "    caracteres = string.ascii_letters + string.digits + string.punctuation\n",
        "    contrasena = ''.join(random.choice(caracteres) for i in range(longitud))\n",
        "    return contrasena"
      ],
      "metadata": {
        "id": "WcaM3vqv91na"
      },
      "execution_count": 2,
      "outputs": []
    },
    {
      "cell_type": "code",
      "source": [
        "longitud_contrasena = 12\n",
        "contrasena_generada = generar_contrasena(longitud_contrasena)\n",
        "print(\"Contraseña generada:\", contrasena_generada)"
      ],
      "metadata": {
        "colab": {
          "base_uri": "https://localhost:8080/"
        },
        "id": "bF7CtqAo95pZ",
        "outputId": "b448478b-134c-44cd-dbc4-f3e244a27f87"
      },
      "execution_count": 4,
      "outputs": [
        {
          "output_type": "stream",
          "name": "stdout",
          "text": [
            "Contraseña generada: NdH!frYYBz;n\n"
          ]
        }
      ]
    }
  ]
}